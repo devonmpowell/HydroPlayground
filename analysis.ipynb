{
 "cells": [
  {
   "cell_type": "code",
   "execution_count": 1,
   "metadata": {
    "collapsed": false,
    "scrolled": true
   },
   "outputs": [],
   "source": [
    "%matplotlib inline\n",
    "import h5py\n",
    "import numpy as np\n",
    "import matplotlib\n",
    "import matplotlib.pyplot as plt\n",
    "import matplotlib.cm as cm\n",
    "\n",
    "# nice plot styling\n",
    "# plt.style.use('ggplot')\n",
    "matplotlib.rcParams['font.family'] = 'monospace'\n",
    "matplotlib.rcParams['font.size'] = 20.0\n",
    "matplotlib.rcParams['text.usetex'] = False#True\n",
    "matplotlib.rcParams['figure.figsize'] = (15,10)\n",
    "matplotlib.rcParams['lines.linewidth'] = 1.0\n",
    "matplotlib.rcParams['grid.linewidth'] = 1.5"
   ]
  },
  {
   "cell_type": "code",
   "execution_count": 5,
   "metadata": {
    "collapsed": false
   },
   "outputs": [
    {
     "data": {
      "text/plain": [
       "<matplotlib.figure.Figure at 0x7ff86a4b2e10>"
      ]
     },
     "metadata": {},
     "output_type": "display_data"
    }
   ],
   "source": [
    "fig = plt.figure()\n",
    "fig.get_axes\n",
    "plt.show()"
   ]
  },
  {
   "cell_type": "code",
   "execution_count": 2,
   "metadata": {
    "collapsed": false
   },
   "outputs": [
    {
     "name": "stdout",
     "output_type": "stream",
     "text": [
      " eos_gamma = 1.4\n",
      " dim = 1\n",
      " nx = (256,)\n",
      " name = default_hp_problem\n",
      " dx = 0.00390625\n",
      " cfl_fac = 0.4\n",
      " bctype = wall\n",
      " init_grid = <function _default_init at 0x7ff890d88e60>\n",
      "[ 1.     1.     1.     1.     1.     1.     1.     1.     1.     1.     1.\n",
      "  1.     1.     1.     1.     1.     1.     1.     1.     1.     1.     1.\n",
      "  1.     1.     1.     1.     1.     1.     1.     1.     1.     1.     1.\n",
      "  1.     1.     1.     1.     1.     1.     1.     1.     1.     1.     1.\n",
      "  1.     1.     1.     1.     1.     1.     1.     1.     1.     1.     1.\n",
      "  1.     1.     1.     1.     1.     1.     1.     1.     1.     1.     1.\n",
      "  1.     1.     1.     1.     1.     1.     1.     1.     1.     1.     1.\n",
      "  1.     1.     1.     1.     1.     1.     1.     1.     1.     1.     1.\n",
      "  1.     1.     1.     1.     1.     1.     1.     1.     1.     1.     1.\n",
      "  1.     1.     1.     1.     1.     1.     1.     1.     1.     1.     1.\n",
      "  1.     1.     1.     1.     1.     1.     1.     1.     1.     1.     1.\n",
      "  1.     1.     1.     1.     1.     1.     1.     0.125  0.125  0.125\n",
      "  0.125  0.125  0.125  0.125  0.125  0.125  0.125  0.125  0.125  0.125\n",
      "  0.125  0.125  0.125  0.125  0.125  0.125  0.125  0.125  0.125  0.125\n",
      "  0.125  0.125  0.125  0.125  0.125  0.125  0.125  0.125  0.125  0.125\n",
      "  0.125  0.125  0.125  0.125  0.125  0.125  0.125  0.125  0.125  0.125\n",
      "  0.125  0.125  0.125  0.125  0.125  0.125  0.125  0.125  0.125  0.125\n",
      "  0.125  0.125  0.125  0.125  0.125  0.125  0.125  0.125  0.125  0.125\n",
      "  0.125  0.125  0.125  0.125  0.125  0.125  0.125  0.125  0.125  0.125\n",
      "  0.125  0.125  0.125  0.125  0.125  0.125  0.125  0.125  0.125  0.125\n",
      "  0.125  0.125  0.125  0.125  0.125  0.125  0.125  0.125  0.125  0.125\n",
      "  0.125  0.125  0.125  0.125  0.125  0.125  0.125  0.125  0.125  0.125\n",
      "  0.125  0.125  0.125  0.125  0.125  0.125  0.125  0.125  0.125  0.125\n",
      "  0.125  0.125  0.125  0.125  0.125  0.125  0.125  0.125  0.125  0.125\n",
      "  0.125  0.125  0.125  0.125  0.125  0.125  0.125]\n",
      "1\n",
      "None\n",
      "[ 1.          1.          1.          1.          1.          1.          1.\n",
      "  1.          1.          1.          1.          1.          1.          1.\n",
      "  1.          1.          1.          1.          1.          1.          1.\n",
      "  1.          1.          1.          1.          1.          1.          1.\n",
      "  1.          1.          1.          1.          1.          1.          1.\n",
      "  1.          1.          1.          1.          1.          1.          1.\n",
      "  1.          1.          1.          1.          1.          1.          1.\n",
      "  1.          1.          1.          1.          1.          1.          1.\n",
      "  1.          1.          1.          1.          1.          1.          1.\n",
      "  1.          1.          1.          1.          1.          1.          1.\n",
      "  1.          1.          1.          1.          1.          1.          1.\n",
      "  1.          1.          1.          1.          1.          1.          1.\n",
      "  1.          1.          1.          1.          1.          1.          1.\n",
      "  0.99999999  0.99999999  0.99999997  0.99999992  0.99999983  0.99999961\n",
      "  0.99999915  0.99999819  0.9999962   0.9999922   0.99998432  0.99996915\n",
      "  0.99994057  0.99988797  0.99979336  0.9996271   0.99934172  0.99886343\n",
      "  0.99808095  0.9968318   0.99488679  0.9919343   0.98756747  0.9812787\n",
      "  0.972467    0.96046395  0.9445824   0.92418829  0.89878941  0.86812781\n",
      "  0.83225698  0.79158359  0.74685952  0.6991214   0.64958798  0.59953663\n",
      "  0.55018314  0.50258537  0.45758231  0.41577029  0.37751043  0.34295765\n",
      "  0.31210096  0.28480652  0.26085759  0.23998832  0.22190999  0.20633026\n",
      "  0.19296605  0.18155158  0.17184261  0.16361818  0.15668051  0.15085395\n",
      "  0.14598335  0.14193213  0.13858044  0.13582334  0.13356917  0.13173813\n",
      "  0.13026093  0.12907772  0.12813705  0.12739499  0.12681425  0.12636348\n",
      "  0.12601651  0.12575169  0.12555132  0.12540103  0.12528928  0.12520693\n",
      "  0.12514679  0.12510324  0.12507201  0.12504979  0.12503414  0.12502321\n",
      "  0.12501565  0.12501046  0.12500693  0.12500455  0.12500297  0.12500192\n",
      "  0.12500123  0.12500078  0.12500049  0.12500031  0.12500019  0.12500012\n",
      "  0.12500007  0.12500004  0.12500003  0.12500002  0.12500001  0.12500001\n",
      "  0.125       0.125       0.125       0.125       0.125       0.125       0.125\n",
      "  0.125       0.125       0.125       0.125       0.125       0.125       0.125\n",
      "  0.125       0.125       0.125       0.125       0.125       0.125       0.125\n",
      "  0.125       0.125       0.125       0.125       0.125       0.125       0.125\n",
      "  0.125       0.125       0.125       0.125       0.125       0.125       0.125\n",
      "  0.125       0.125       0.125       0.125       0.125       0.125       0.125\n",
      "  0.125       0.125       0.125       0.125       0.125       0.125       0.125\n",
      "  0.125       0.125       0.125       0.125       0.125       0.125       0.125\n",
      "  0.125       0.125       0.125       0.125       0.125       0.125       0.125\n",
      "  0.125       0.125       0.125       0.125       0.125       0.125       0.125\n",
      "  0.125     ]\n"
     ]
    }
   ],
   "source": [
    "import hydroPlayground as hp\n",
    "reload(hp);\n",
    "   \n",
    "import params\n",
    "reload(params)\n",
    "\n",
    "sod_test = hp.HydroProblem(verbose=True)\n",
    "\n",
    "ngrid = sod_test.nx[sod_test.dim-1]\n",
    "\n",
    "sod_test.pygrid['rho'][:ngrid/2] = 1.0\n",
    "sod_test.pygrid['rho'][ngrid/2:] = 0.125\n",
    "sod_test.pygrid['mom'] = 0.0\n",
    "sod_test.pygrid['etot'][:ngrid/2] = 1.0\n",
    "sod_test.pygrid['etot'][ngrid/2:] = 1.0 #25\n",
    "\n",
    "\n",
    "print sod_test.pygrid['rho']\n",
    "print sod_test.strides[0]\n",
    "\n",
    "# sod_test.pygrid[sod]\n",
    "\n",
    "print sod_test.run()\n",
    "print sod_test.pygrid['rho']"
   ]
  },
  {
   "cell_type": "code",
   "execution_count": null,
   "metadata": {
    "collapsed": true
   },
   "outputs": [],
   "source": []
  },
  {
   "cell_type": "code",
   "execution_count": null,
   "metadata": {
    "collapsed": true
   },
   "outputs": [],
   "source": []
  },
  {
   "cell_type": "code",
   "execution_count": 132,
   "metadata": {
    "collapsed": false
   },
   "outputs": [
    {
     "name": "stdout",
     "output_type": "stream",
     "text": [
      "0.273939341502 0.442145586428 0.31900053531 0.890952333496 1.63869997736\n"
     ]
    }
   ],
   "source": [
    "rho_post, rho_mid, p_post, v_post, v_shock = sod_exact(1.0, 1.0, 0.125, 0.1, 1.4)\n",
    "print rho_post, rho_mid, p_post, v_post, v_shock"
   ]
  },
  {
   "cell_type": "code",
   "execution_count": 133,
   "metadata": {
    "collapsed": true
   },
   "outputs": [],
   "source": [
    "# iteratively solve the shock jump conditions\n",
    "def sod_exact(rho_l, p_l, rho_r, p_r, gamma):\n",
    "    \n",
    "    Gamma = (gamma - 1.0)/(gamma + 1.0)\n",
    "    Beta = (gamma - 1.0)/(2.0*gamma)\n",
    "    \n",
    "    p_post = p_r # initial guess\n",
    "    tol = 1.0e-16 # machine precision\n",
    "    p_post_old = 1.0e99\n",
    "    \n",
    "    i = 0\n",
    "    while abs(1.0 - p_post_old/p_post) > tol and i < 500:\n",
    "        \n",
    "        p_post_old = p_post\n",
    "        p_post = p_r + 2.0*gamma**0.5/(gamma - 1.0)*(1.0 - p_post**Beta) \\\n",
    "            /((1-Gamma)**2/(rho_r*(p_post + Gamma*p_r)))**0.5\n",
    "        ++i\n",
    "    v_post = 2.0*gamma**0.5/(gamma - 1.0)*(1.0 - p_post**((gamma - 1)/(2.0*gamma)))\n",
    "    rho_post = rho_r*((p_post/p_r) + Gamma)/(1 + Gamma*(p_post/p_r))\n",
    "    v_shock = v_post*(rho_post/rho_r)/((rho_post/rho_r) - 1)\n",
    "    rho_mid = rho_l*(p_post/p_l)**(1.0/gamma)\n",
    "    return rho_post, rho_mid, p_post, v_post, v_shock\n",
    "\n",
    "def plot_sod(ax_rho, ax_p, ax_u, ax_v, rho_l, p_l, rho_r, p_r, gamma, x0, t):\n",
    "    rho_post, rho_mid, p_post, v_post, v_shock = sod_exact(rho_l, p_l, rho_r, p_r, gamma)\n",
    "    \n",
    "    u_post = p_post/((gamma - 1)*rho_post)\n",
    "    u_mid = p_post/((gamma - 1)*rho_mid)\n",
    "    u_l = p_l/((gamma - 1)*rho_l)\n",
    "    u_r = p_r/((gamma - 1)*rho_r)\n",
    "    \n",
    "    m2 = (gamma - 1.0)/(gamma + 1.0)\n",
    "    c_left = (gamma*p_l/rho_l)**0.5\n",
    "    \n",
    "    x_shock = x0 + v_shock*t\n",
    "    x_contact = x0 + v_post*t\n",
    "    \n",
    "    x_rare_l = x0 - c_left*t\n",
    "    x_rare_r = x0 - t*(c_left - v_post/(1.0 - m2))\n",
    "    x_rare_sp = np.linspace(x_rare_l, x_rare_r, 100)\n",
    "    \n",
    "    c_rare = m2*(x0 - x_rare_sp)/t + (1.0 - m2)*c_left\n",
    "    rho_rare = rho_l*(c_rare/c_left)**(2.0/(gamma - 1))\n",
    "    p_rare = p_l*(rho_rare/rho_l)**gamma\n",
    "    v_rare = (1.0 - m2)*((x_rare_sp - x0)/t + c_left)\n",
    "    u_rare = p_rare/((gamma - 1)*rho_rare)\n",
    "    \n",
    "    marker = 'r'\n",
    "    key, = ax_rho.plot([0, x_rare_l], [rho_l, rho_l], marker)\n",
    "    ax_rho.plot([x_shock, 1.0], [rho_r, rho_r], marker)\n",
    "    ax_rho.plot([x_contact, x_shock], [rho_post, rho_post], marker)\n",
    "    ax_rho.plot([x_shock, x_shock], [rho_r, rho_post], marker)\n",
    "    ax_rho.plot([x_contact, x_contact], [rho_post, rho_mid], marker)\n",
    "    ax_rho.plot([x_rare_r, x_contact], [rho_mid, rho_mid], marker)\n",
    "    ax_rho.plot(x_rare_sp, rho_rare, marker)\n",
    "    \n",
    "    ax_p.plot([0, x_rare_l], [p_l, p_l], marker)\n",
    "    ax_p.plot([x_shock, 1.0], [p_r, p_r], marker)\n",
    "    ax_p.plot([x_shock, x_shock], [p_r, p_post], marker)\n",
    "    ax_p.plot([x_rare_r, x_shock], [p_post, p_post], marker)\n",
    "    ax_p.plot(x_rare_sp, p_rare, marker)\n",
    "    \n",
    "#     ax_u.plot([0, x_rare_l], [u_l, u_l], marker)\n",
    "#     ax_u.plot([x_shock, 1.0], [u_r, u_r], marker)\n",
    "#     ax_u.plot([x_contact, x_shock], [u_post, u_post], marker)\n",
    "#     ax_u.plot([x_shock, x_shock], [u_r, u_post], marker)\n",
    "#     ax_u.plot([x_contact, x_contact], [u_post, u_mid], marker)\n",
    "#     ax_u.plot([x_rare_r, x_contact], [u_mid, u_mid], marker)\n",
    "#     ax_u.plot(x_rare_sp, u_rare, marker)\n",
    "    \n",
    "    ax_v.plot([0, x_rare_l], [0, 0], marker)\n",
    "    ax_v.plot([x_shock, 1.0], [0, 0], marker)\n",
    "    ax_v.plot([x_shock, x_shock], [0, v_post], marker)\n",
    "    ax_v.plot([x_rare_r, x_shock], [v_post, v_post], marker)\n",
    "    ax_v.plot(x_rare_sp, v_rare, marker)\n",
    "    \n",
    "    return key"
   ]
  },
  {
   "cell_type": "code",
   "execution_count": null,
   "metadata": {
    "collapsed": true
   },
   "outputs": [],
   "source": []
  }
 ],
 "metadata": {
  "kernelspec": {
   "display_name": "Python 2",
   "language": "python",
   "name": "python2"
  },
  "language_info": {
   "codemirror_mode": {
    "name": "ipython",
    "version": 2
   },
   "file_extension": ".py",
   "mimetype": "text/x-python",
   "name": "python",
   "nbconvert_exporter": "python",
   "pygments_lexer": "ipython2",
   "version": "2.7.12"
  }
 },
 "nbformat": 4,
 "nbformat_minor": 0
}
